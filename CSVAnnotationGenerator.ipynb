{
 "cells": [
  {
   "cell_type": "code",
   "execution_count": null,
   "metadata": {},
   "outputs": [],
   "source": [
    "import numpy as np\n",
    "import scipy.ndimage.interpolation as snd\n",
    "import matplotlib.pyplot as plt\n",
    "import glob\n",
    "import os\n",
    "#sudo pip install bs4 incase you find import error\n",
    "from bs4 import BeautifulSoup\n",
    "\n",
    "#Author: Suraj\n",
    "#Contact No: +918486656592\n",
    "#Email: hrishabhsuraj52@gmail.com\n",
    "#Website: https://suraj.glitch.me"
   ]
  },
  {
   "cell_type": "code",
   "execution_count": null,
   "metadata": {},
   "outputs": [],
   "source": [
    "#function to parse xml files and then search the data between a specific tag\n",
    "def xml_parse(file):\n",
    "    f = open(file)\n",
    "    xml = f.read()\n",
    "    soup = BeautifulSoup(xml)\n",
    "    return soup\n",
    "#Please provide the Classname down here:\n",
    "#Eg: Dog, Cat, Hand, BasketBall, Car, Plane or any custom class etc\n",
    "ClassName= \"ClassName\"\n",
    "\n",
    "#Author: Suraj\n",
    "#Contact No: +918486656592\n",
    "#Email: hrishabhsuraj52@gmail.com\n",
    "#Website: https://suraj.glitch.me"
   ]
  },
  {
   "cell_type": "code",
   "execution_count": null,
   "metadata": {},
   "outputs": [],
   "source": [
    "import xml.etree.ElementTree as ET\n",
    "#Provide the path to the xml file which you want to convert down here... \n",
    "tree = ET.parse('/home/dl/Dataset/annotation.xml')\n",
    "root = tree.getroot()\n",
    "labels =[]\n",
    "name=[]\n",
    "print('Bounding Box:')\n",
    "for element in root.iter(tag='image'):\n",
    "    name.append(element.attrib)\n",
    "    print(element.attrib)\n",
    "    print(element.text)\n",
    "\n",
    "for element in root.iter(tag= 'box'):\n",
    "    labels.append(element.attrib)\n",
    "    print(element.attrib)\n",
    "    print(element.text)\n",
    "\n",
    "\n",
    "#Author: Suraj\n",
    "#Contact No: +918486656592\n",
    "#Email: hrishabhsuraj52@gmail.com\n",
    "#Website: https://suraj.glitch.me"
   ]
  },
  {
   "cell_type": "code",
   "execution_count": null,
   "metadata": {},
   "outputs": [],
   "source": [
    "#Extracting images name\n",
    "file_names =[]\n",
    "coordinates =[]\n",
    "for i in xrange(len(labels)):\n",
    "    file_names.append(str(str(name[i]).split(':')[1]).split('\\'')[1])\n",
    "    list= str(str(str(labels[i]).split(':'))).split(\"'\")[7],str(str(str(labels[i]).split(':'))).split(\"'\")[11],str(str(str(labels[i]).split(':'))).split(\"'\")[3],str(str(str(labels[i]).split(':'))).split(\"'\")[15]\n",
    "    #print(list)\n",
    "    print(list)\n",
    "    coordinates.append(list)\n",
    "\n",
    "#Expected Verbose after succesful run of this cell\n",
    "# For eg : ('106', '328', '224', '348')\n",
    "\n",
    "\n",
    "#Author: Suraj\n",
    "#Contact No: +918486656592\n",
    "#Email: hrishabhsuraj52@gmail.com\n",
    "#Website: https://suraj.glitch.me"
   ]
  },
  {
   "cell_type": "code",
   "execution_count": null,
   "metadata": {},
   "outputs": [],
   "source": [
    "features =[]\n",
    "labels_matrix=[]\n",
    "for counter in ((xrange(len(file_names)))):\n",
    "    print(file_names[counter])\n",
    "    for file in (glob.glob(file_names[counter])):\n",
    "        coordinates[counter]= [coordinates[counter][0], coordinates[counter][1], str(int(coordinates[counter][0]) + int(coordinates[counter][2])), str(int(coordinates[counter][3])+ int(coordinates[counter][1]))]\n",
    "        print(coordinates[counter])\n",
    "        labels_matrix.append(coordinates[counter])\n",
    "\n",
    "        \n",
    "#Expected Verbose after succesful run of this cell.\n",
    "# For eg\" /home/dl/Download/images_73.jpg\n",
    "#For eg: ['106', '329', '328', '675']\n",
    "\n",
    "#Author: Suraj\n",
    "#Contact No: +918486656592\n",
    "#Email: hrishabhsuraj52@gmail.com\n",
    "#Website: https://suraj.glitch.me"
   ]
  },
  {
   "cell_type": "code",
   "execution_count": null,
   "metadata": {},
   "outputs": [],
   "source": [
    "#Please provide the absolute system path where you wish to generate the Faster RCNN compatible label text file.\n",
    "f= open(\"/home/dl/Dataset/annotations.txt\",\"w+\")\n",
    "for i in range(len(labels_matrix)):\n",
    "    f.write(str(file_names[i])+\",\"+ str(labels_matrix[i][0])+ \",\" + str(labels_matrix[i][1])+ \",\"+str(labels_matrix[i][2])+ \",\"+ str(labels_matrix[i][3])+ \",\"+str(ClassName) +\"\\n\")\n",
    "print(\"The annotation file in faster RCNN compatible text/retinanet format succesfully generated in the path!!\")\n",
    "f.close()\n",
    "\n",
    "#Author: Suraj\n",
    "#Contact No: +918486656592\n",
    "#Email: hrishabhsuraj52@gmail.com\n",
    "#Website: https://suraj.glitch.me"
   ]
  },
  {
   "cell_type": "code",
   "execution_count": null,
   "metadata": {},
   "outputs": [],
   "source": []
  },
  {
   "cell_type": "code",
   "execution_count": null,
   "metadata": {},
   "outputs": [],
   "source": []
  }
 ],
 "metadata": {
  "kernelspec": {
   "display_name": "Python 2",
   "language": "python",
   "name": "python2"
  },
  "language_info": {
   "codemirror_mode": {
    "name": "ipython",
    "version": 2
   },
   "file_extension": ".py",
   "mimetype": "text/x-python",
   "name": "python",
   "nbconvert_exporter": "python",
   "pygments_lexer": "ipython2",
   "version": "2.7.12"
  }
 },
 "nbformat": 4,
 "nbformat_minor": 1
}
